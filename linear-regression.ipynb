{
 "cells": [
  {
   "cell_type": "code",
   "execution_count": 2,
   "id": "c06d030d",
   "metadata": {},
   "outputs": [],
   "source": [
    "import random\n",
    "import pandas as pd\n",
    "import numpy as np\n",
    "from matplotlib import pyplot as plt"
   ]
  },
  {
   "cell_type": "markdown",
   "id": "d89721ed",
   "metadata": {},
   "source": [
    "Example Synthetic Data:"
   ]
  },
  {
   "cell_type": "code",
   "execution_count": 24,
   "id": "80591a21",
   "metadata": {},
   "outputs": [
    {
     "data": {
      "text/html": [
       "<div>\n",
       "<style scoped>\n",
       "    .dataframe tbody tr th:only-of-type {\n",
       "        vertical-align: middle;\n",
       "    }\n",
       "\n",
       "    .dataframe tbody tr th {\n",
       "        vertical-align: top;\n",
       "    }\n",
       "\n",
       "    .dataframe thead th {\n",
       "        text-align: right;\n",
       "    }\n",
       "</style>\n",
       "<table border=\"1\" class=\"dataframe\">\n",
       "  <thead>\n",
       "    <tr style=\"text-align: right;\">\n",
       "      <th></th>\n",
       "      <th>target</th>\n",
       "      <th>indep</th>\n",
       "    </tr>\n",
       "  </thead>\n",
       "  <tbody>\n",
       "    <tr>\n",
       "      <th>0</th>\n",
       "      <td>0.248510</td>\n",
       "      <td>0.497020</td>\n",
       "    </tr>\n",
       "    <tr>\n",
       "      <th>1</th>\n",
       "      <td>0.449975</td>\n",
       "      <td>0.899951</td>\n",
       "    </tr>\n",
       "    <tr>\n",
       "      <th>2</th>\n",
       "      <td>0.410941</td>\n",
       "      <td>0.821882</td>\n",
       "    </tr>\n",
       "    <tr>\n",
       "      <th>3</th>\n",
       "      <td>0.260300</td>\n",
       "      <td>0.520599</td>\n",
       "    </tr>\n",
       "    <tr>\n",
       "      <th>4</th>\n",
       "      <td>0.870396</td>\n",
       "      <td>1.740791</td>\n",
       "    </tr>\n",
       "    <tr>\n",
       "      <th>...</th>\n",
       "      <td>...</td>\n",
       "      <td>...</td>\n",
       "    </tr>\n",
       "    <tr>\n",
       "      <th>495</th>\n",
       "      <td>0.789180</td>\n",
       "      <td>1.578360</td>\n",
       "    </tr>\n",
       "    <tr>\n",
       "      <th>496</th>\n",
       "      <td>0.075926</td>\n",
       "      <td>0.151853</td>\n",
       "    </tr>\n",
       "    <tr>\n",
       "      <th>497</th>\n",
       "      <td>0.995801</td>\n",
       "      <td>1.991601</td>\n",
       "    </tr>\n",
       "    <tr>\n",
       "      <th>498</th>\n",
       "      <td>0.578444</td>\n",
       "      <td>1.156887</td>\n",
       "    </tr>\n",
       "    <tr>\n",
       "      <th>499</th>\n",
       "      <td>0.844272</td>\n",
       "      <td>1.688544</td>\n",
       "    </tr>\n",
       "  </tbody>\n",
       "</table>\n",
       "<p>500 rows × 2 columns</p>\n",
       "</div>"
      ],
      "text/plain": [
       "       target     indep\n",
       "0    0.248510  0.497020\n",
       "1    0.449975  0.899951\n",
       "2    0.410941  0.821882\n",
       "3    0.260300  0.520599\n",
       "4    0.870396  1.740791\n",
       "..        ...       ...\n",
       "495  0.789180  1.578360\n",
       "496  0.075926  0.151853\n",
       "497  0.995801  1.991601\n",
       "498  0.578444  1.156887\n",
       "499  0.844272  1.688544\n",
       "\n",
       "[500 rows x 2 columns]"
      ]
     },
     "execution_count": 24,
     "metadata": {},
     "output_type": "execute_result"
    }
   ],
   "source": [
    "# Example Data\n",
    "np.random.seed(33)\n",
    "target = np.random.rand(500)\n",
    "data = pd.DataFrame.from_dict({'target': target, 'indep': target * 2})\n",
    "data"
   ]
  },
  {
   "cell_type": "markdown",
   "id": "099062e6",
   "metadata": {},
   "source": [
    "## Univariate Linear Regression"
   ]
  },
  {
   "cell_type": "code",
   "execution_count": null,
   "id": "35d94f02",
   "metadata": {},
   "outputs": [],
   "source": [
    "class univariate_lr():\n",
    "    def __init__(self, data, target_var, indep_var, learning_rate=1e-2, limit_iterations = 10000, tol=1e-5, seed=33):\n",
    "        # Data\n",
    "        self.data = data\n",
    "        self.y = data[target_var]\n",
    "        self.x = data[indep_var]\n",
    "        \n",
    "        # pred = m*x + n\n",
    "        random.seed(seed)\n",
    "        self.m = random.uniform(-1, 1)\n",
    "        self.n = random.uniform(-1, 1)\n",
    "\n",
    "        # Model training\n",
    "        self.r = learning_rate\n",
    "        self.limit_iter = limit_iterations\n",
    "        self.tol = tol\n",
    "\n",
    "    def __evaluate(self):\n",
    "        # Prediction\n",
    "        pred = [(self.m * x + self.n) for x in self.x]\n",
    "\n",
    "        # L = MSE\n",
    "        L = np.mean(\n",
    "            [(yi - (self.m * xi + self.n) )**2 for yi,xi in zip(self.y, self.x)]\n",
    "        )\n",
    "        dL_dm = -2 * np.mean(\n",
    "            [(yi - (self.m * xi + self.n) ) * xi for yi,xi in zip(self.y, self.x)]\n",
    "        )\n",
    "        dL_dn = -2 * np.mean(\n",
    "            [(yi - (self.m * xi + self.n) ) for yi,xi in zip(self.y, self.x)]\n",
    "        )\n",
    "\n",
    "        return {\n",
    "            'pred': pred,\n",
    "            'L': L,\n",
    "            'dL_dm': dL_dm,\n",
    "            'dL_dn': dL_dn\n",
    "        }\n",
    "\n",
    "    def __update_coef(self, dL_dm, dL_dn, r):\n",
    "        self.m -= r*dL_dm\n",
    "        self.n -= r*dL_dn\n",
    "\n",
    "    def train(self):\n",
    "        self.loss = []\n",
    "        for _ in range(self.limit_iter):\n",
    "            results_dic = self.__evaluate()\n",
    "            self.loss.append(results_dic['L'])\n",
    "\n",
    "            self.__update_coef(dL_dm = results_dic['dL_dm'], \n",
    "                            dL_dn = results_dic['dL_dn'],\n",
    "                            r = self.r)\n",
    "            if results_dic['L'] < self.tol:\n",
    "                print(results_dic['L'])\n",
    "                break\n",
    "        \n",
    "        fig = plt.figure()\n",
    "        plt.scatter(x=self.x, y=self.y)\n",
    "        plt.scatter(x=self.x, y=results_dic['pred'])\n",
    "        self.MSE = results_dic['L']\n",
    "\n",
    "        fig = plt.figure()\n",
    "        plt.scatter(x=np.arange(stop=len(self.loss)), y=self.loss)\n",
    "        self.MSE = results_dic['L']\n",
    "        "
   ]
  },
  {
   "cell_type": "code",
   "execution_count": null,
   "id": "d50cf3e7",
   "metadata": {},
   "outputs": [
    {
     "data": {
      "text/plain": [
       "<__main__.univariate_lr at 0x1b769037c90>"
      ]
     },
     "metadata": {},
     "output_type": "display_data"
    }
   ],
   "source": [
    "model = univariate_lr(data=data, target_var='target', indep_var='indep')\n",
    "model"
   ]
  },
  {
   "cell_type": "code",
   "execution_count": null,
   "id": "c1b51f2d",
   "metadata": {},
   "outputs": [
    {
     "name": "stdout",
     "output_type": "stream",
     "text": [
      "9.990463346125497e-06\n"
     ]
    },
    {
     "data": {
      "image/png": "[encoded data removed]",
      "text/plain": [
       "<Figure size 640x480 with 1 Axes>"
      ]
     },
     "metadata": {},
     "output_type": "display_data"
    },
    {
     "data": {
      "image/png": "[encoded data removed]",
      "text/plain": [
       "<Figure size 640x480 with 1 Axes>"
      ]
     },
     "metadata": {},
     "output_type": "display_data"
    }
   ],
   "source": [
    "model.train()\n"
   ]
  },
  {
   "cell_type": "markdown",
   "id": "619443ac",
   "metadata": {},
   "source": [
    "## General Regression Model\n",
    "- Inherit most methods from a base model.\n",
    "- Applicable to univariate and multivariate linear regression, polynomial regression, logistic regression. (maybe L1 and L2 regression too.)"
   ]
  },
  {
   "cell_type": "code",
   "execution_count": null,
   "id": "22647d82",
   "metadata": {},
   "outputs": [],
   "source": [
    "class base_regression_model():\n",
    "    def __init__(self, data: pd.DataFrame, y_name: str, x_names, iter_limit=1000, tolerance=1e-3, learning_rate=1e-3, random_seed=33):\n",
    "        # Data\n",
    "        self.data = data\n",
    "        \n",
    "        # Formula: y = m·x + n * 1.0, where y, m, x and n are vectors \n",
    "        self.y = data.loc[:, y_name]\n",
    "        self.x = data.loc[:, x_names]\n",
    "        self.x['bias'] = 1.0 \n",
    "        \n",
    "        # Prediction and loss values initialization\n",
    "        self.pred = np.repeat(0.0, repeats=len(self.y))\n",
    "        self.loss = []\n",
    "\n",
    "        # Additional parameters to control how training is performed\n",
    "        self.iter_limit = iter_limit\n",
    "        self.tol = tolerance\n",
    "        self.seed = random_seed\n",
    "        self.lr = learning_rate\n",
    "\n",
    "    def _evaluate(self):\n",
    "        pass\n",
    "        # return (loss, {'x1': dL_dx1, ...})\n",
    "\n",
    "    def _update(self, gradient: dict):\n",
    "        # Update uses \"-=\" to advance in the direction of decreasing loss\n",
    "        for col in self.coeff:\n",
    "            self.coeff[col] -= self.lr * gradient[col]\n",
    "\n",
    "    def predict(self, X: pd.DataFrame = None):\n",
    "        '''\n",
    "        Calculate the dot product of X with the coefficients. If X is not specified, then training data is used.\n",
    "        '''\n",
    "        if X is None:\n",
    "            X = self.x\n",
    "\n",
    "        return np.dot(\n",
    "            X,\n",
    "            np.array([self.coeff[col] for col in X.columns])\n",
    "        )\n",
    "\n",
    "    def train(self):\n",
    "        '''\n",
    "        Perform gradient descent iteratively to optimize coefficients.\n",
    "        '''\n",
    "        # Set random coefficients\n",
    "        random.seed(self.seed)\n",
    "        self.coeff = {\n",
    "            x: random.uniform(-1.0, 1.0) for x in self.x\n",
    "        }\n",
    "\n",
    "        for _ in range(self.iter_limit):\n",
    "            # Calculate prediction with current coefficients\n",
    "            self.pred = self.predict()\n",
    "\n",
    "            # The loss function and its gradient\n",
    "            (loss, gradient) = self._evaluate()\n",
    "            self.loss.append(loss)\n",
    "\n",
    "            # Check if the loss function is under the tolerated error (stop if true)\n",
    "            if loss < self.tol:\n",
    "                break\n",
    "            \n",
    "            # Update the coefficients\n",
    "            self._update(gradient)\n",
    "\n",
    "    def summary(self):\n",
    "        '''\n",
    "        Statistical summary of the model.\n",
    "        '''\n",
    "        print('Model Summary')\n",
    "\n",
    "        \n",
    "\n"
   ]
  },
  {
   "cell_type": "code",
   "execution_count": null,
   "id": "572f3961",
   "metadata": {},
   "outputs": [],
   "source": [
    "# Needs fixing yet\n",
    "\n",
    "class univariate_lr(base_regression_model):\n",
    "    def __init__(self, data, y_name, x_names, iter_limit=1000, tolerance=0.001, learning_rate=0.001, random_seed=33):\n",
    "        super().__init__(data, y_name, x_names, iter_limit, tolerance, learning_rate, random_seed)\n",
    "\n",
    "    def _evaluate(self):\n",
    "        # error = y_real - y_pred\n",
    "        error = self.y - self.pred\n",
    "\n",
    "        loss = np.mean(error**2)\n",
    "        \n",
    "        # Gradient\n",
    "        coeff = np.array([self.coeff[col] for col in self.x.columns])\n",
    "\n",
    "        \n",
    "        dL_dm = -2 * np.mean(\n",
    "            [(yi - (self.m * xi + self.n) ) * xi for yi,xi in zip(self.y, self.x)]\n",
    "        )\n",
    "        dL_dn = -2 * np.mean(\n",
    "            [(yi - (self.m * xi + self.n) ) for yi,xi in zip(self.y, self.x)]\n",
    "        )\n",
    "\n",
    "        return {\n",
    "            'pred': pred,\n",
    "            'L': L,\n",
    "            'dL_dm': dL_dm,\n",
    "            'dL_dn': dL_dn\n",
    "        }\n",
    "\n",
    "        return super()._evaluate()"
   ]
  },
  {
   "cell_type": "code",
   "execution_count": null,
   "id": "cda7b850",
   "metadata": {},
   "outputs": [],
   "source": []
  }
 ],
 "metadata": {
  "kernelspec": {
   "display_name": "base",
   "language": "python",
   "name": "python3"
  },
  "language_info": {
   "codemirror_mode": {
    "name": "ipython",
    "version": 3
   },
   "file_extension": ".py",
   "mimetype": "text/x-python",
   "name": "python",
   "nbconvert_exporter": "python",
   "pygments_lexer": "ipython3",
   "version": "3.11.10"
  }
 },
 "nbformat": 4,
 "nbformat_minor": 5
}
